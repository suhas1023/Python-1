{
  "nbformat": 4,
  "nbformat_minor": 0,
  "metadata": {
    "colab": {
      "name": "Assignment-13 july 2019ipynb",
      "version": "0.3.2",
      "provenance": [],
      "include_colab_link": true
    },
    "kernelspec": {
      "name": "python3",
      "display_name": "Python 3"
    }
  },
  "cells": [
    {
      "cell_type": "markdown",
      "metadata": {
        "id": "view-in-github",
        "colab_type": "text"
      },
      "source": [
        "<a href=\"https://colab.research.google.com/github/suhas1023/Python-1/blob/master/Assignment_13_july_2019ipynb.ipynb\" target=\"_parent\"><img src=\"https://colab.research.google.com/assets/colab-badge.svg\" alt=\"Open In Colab\"/></a>"
      ]
    },
    {
      "cell_type": "code",
      "metadata": {
        "id": "7HbCs4KrpuUn",
        "colab_type": "code",
        "colab": {
          "base_uri": "https://localhost:8080/",
          "height": 50
        },
        "outputId": "f33c2b1e-466c-4c21-ca43-5c619f3a8291"
      },
      "source": [
        "# Python Q-1\n",
        "\n",
        "def large(n) :\n",
        "  l = 0\n",
        "  while n!= 0 :\n",
        "    r = n % 10\n",
        "    if l < r :\n",
        "      l = r\n",
        "    n = n // 10\n",
        "  return l\n",
        "n = int(input(\"Enter a number - \"))\n",
        "l = large(n)\n",
        "print(\"Largest digit is \", l)\n"
      ],
      "execution_count": 1,
      "outputs": [
        {
          "output_type": "stream",
          "text": [
            "Enter a number - 123\n",
            "Largest digit is  3\n"
          ],
          "name": "stdout"
        }
      ]
    },
    {
      "cell_type": "code",
      "metadata": {
        "id": "7Kqs68IDp6Nv",
        "colab_type": "code",
        "colab": {}
      },
      "source": [
        "# Python Q-2 \n",
        "\n",
        "def count(a,b) :\n",
        "  cnt = 0\n",
        "  for i in range(a,b+1) :\n",
        "    x = i\n",
        "    rev = 0\n",
        "    while i!=0 :\n",
        "      r = i % 10\n",
        "      rev = rev * 10 + r\n",
        "      i = i // 10\n",
        "    if rev == x :\n",
        "      cnt = cnt + 1\n",
        "  return cnt\n",
        "\n",
        "C=count(1,10)\n",
        "print(\"Count = \",C)\n",
        "C=count(11,100)\n",
        "print(\"Count = \",C)"
      ],
      "execution_count": 0,
      "outputs": []
    }
  ]
}