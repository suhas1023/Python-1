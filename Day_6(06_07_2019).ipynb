{
  "nbformat": 4,
  "nbformat_minor": 0,
  "metadata": {
    "colab": {
      "name": "Day 6(06-07-2019).ipynb",
      "version": "0.3.2",
      "provenance": [],
      "collapsed_sections": [],
      "include_colab_link": true
    },
    "kernelspec": {
      "name": "python3",
      "display_name": "Python 3"
    }
  },
  "cells": [
    {
      "cell_type": "markdown",
      "metadata": {
        "id": "view-in-github",
        "colab_type": "text"
      },
      "source": [
        "<a href=\"https://colab.research.google.com/github/suhas1023/Python-1/blob/master/Day_6(06_07_2019).ipynb\" target=\"_parent\"><img src=\"https://colab.research.google.com/assets/colab-badge.svg\" alt=\"Open In Colab\"/></a>"
      ]
    },
    {
      "cell_type": "code",
      "metadata": {
        "id": "9hHNmveTZcH5",
        "colab_type": "code",
        "outputId": "9699f7d3-b9b9-4981-855e-414308460c83",
        "colab": {
          "base_uri": "https://localhost:8080/",
          "height": 101
        }
      },
      "source": [
        "x = 0\n",
        "while x < 5:\n",
        "    print(\"Gitam\")\n",
        "    x = x + 1"
      ],
      "execution_count": 0,
      "outputs": [
        {
          "output_type": "stream",
          "text": [
            "Gitam\n",
            "Gitam\n",
            "Gitam\n",
            "Gitam\n",
            "Gitam\n"
          ],
          "name": "stdout"
        }
      ]
    },
    {
      "cell_type": "code",
      "metadata": {
        "id": "mc-IRZh2fpr6",
        "colab_type": "code",
        "outputId": "871e751f-cec3-4baf-8b94-a3ce0a2d8258",
        "colab": {
          "base_uri": "https://localhost:8080/",
          "height": 50
        }
      },
      "source": [
        "n = int(input(\"Enter a Number\"))\n",
        "i = 1\n",
        "while i <= n:\n",
        "    print(i,end = \" \")\n",
        "    i = i + 1"
      ],
      "execution_count": 0,
      "outputs": [
        {
          "output_type": "stream",
          "text": [
            "Enter a Number10\n",
            "1 2 3 4 5 6 7 8 9 10 "
          ],
          "name": "stdout"
        }
      ]
    },
    {
      "cell_type": "code",
      "metadata": {
        "id": "EHNSO8x_idY0",
        "colab_type": "code",
        "outputId": "8c25c683-b663-428a-816f-2d8d4e0950e1",
        "colab": {
          "base_uri": "https://localhost:8080/",
          "height": 50
        }
      },
      "source": [
        "n = int(input(\"Enter a Number\"))\n",
        "i = 1\n",
        "sum = 0\n",
        "while i <= n:\n",
        "    if i % 2 == 0:\n",
        "        sum =  sum + i\n",
        "    i = i + 1\n",
        "print(sum)    \n",
        "    \n",
        "    "
      ],
      "execution_count": 0,
      "outputs": [
        {
          "output_type": "stream",
          "text": [
            "Enter a Number10\n",
            "30\n"
          ],
          "name": "stdout"
        }
      ]
    },
    {
      "cell_type": "code",
      "metadata": {
        "id": "e1lVgiIYnpaA",
        "colab_type": "code",
        "outputId": "c0c63f60-7e16-4f9f-fa35-a209c26036a6",
        "colab": {
          "base_uri": "https://localhost:8080/",
          "height": 50
        }
      },
      "source": [
        "n = int(input('Enter the Number '))\n",
        "while n != 0:\n",
        "    r = n % 10\n",
        "    print(r,end = \" \")\n",
        "    n = n // 10"
      ],
      "execution_count": 0,
      "outputs": [
        {
          "output_type": "stream",
          "text": [
            "Enter the Number 123\n",
            "3 2 1 "
          ],
          "name": "stdout"
        }
      ]
    },
    {
      "cell_type": "code",
      "metadata": {
        "id": "xt76dBFUEwA_",
        "colab_type": "code",
        "colab": {}
      },
      "source": [
        ""
      ],
      "execution_count": 0,
      "outputs": []
    },
    {
      "cell_type": "code",
      "metadata": {
        "id": "Ox9jWep_omHx",
        "colab_type": "code",
        "colab": {}
      },
      "source": [
        "def addEvenDigits(n):\n",
        "    return\n",
        "addEvenDigits(1234)  \n",
        "  "
      ],
      "execution_count": 0,
      "outputs": []
    },
    {
      "cell_type": "code",
      "metadata": {
        "id": "JS9nJDOF6zGH",
        "colab_type": "code",
        "outputId": "d7471a0d-b355-4c8f-e311-b278322cc99e",
        "colab": {
          "base_uri": "https://localhost:8080/",
          "height": 50
        }
      },
      "source": [
        "def isPalindrome(n):\n",
        "    rev = 0\n",
        "    buffer = n\n",
        "    while n != 0:\n",
        "        r = n % 10\n",
        "        rev = rev * 10 + r\n",
        "        n = n // 10\n",
        "    if buffer == rev:\n",
        "        return \"Yes\"\n",
        "    else:\n",
        "        return \"No\"\n",
        "      \n",
        "print(isPalindrome(123))      \n",
        "print(isPalindrome(121))"
      ],
      "execution_count": 0,
      "outputs": [
        {
          "output_type": "stream",
          "text": [
            "No\n",
            "Yes\n"
          ],
          "name": "stdout"
        }
      ]
    },
    {
      "cell_type": "code",
      "metadata": {
        "id": "uGSF--NqEy8y",
        "colab_type": "code",
        "outputId": "ffd480a3-d7e2-4a9c-82f6-ba032a26c3d0",
        "colab": {
          "base_uri": "https://localhost:8080/",
          "height": 128
        }
      },
      "source": [
        "def printSeries(lb,ub):\n",
        "    for x in range(lb,ub+1)\n",
        "        print(x,end=\" \")\n",
        "    return\n",
        "printSeries(11,25)"
      ],
      "execution_count": 0,
      "outputs": [
        {
          "output_type": "error",
          "ename": "SyntaxError",
          "evalue": "ignored",
          "traceback": [
            "\u001b[0;36m  File \u001b[0;32m\"<ipython-input-17-73a6297a10b2>\"\u001b[0;36m, line \u001b[0;32m2\u001b[0m\n\u001b[0;31m    for x in range(lb,ub+1)\u001b[0m\n\u001b[0m                           ^\u001b[0m\n\u001b[0;31mSyntaxError\u001b[0m\u001b[0;31m:\u001b[0m invalid syntax\n"
          ]
        }
      ]
    }
  ]
}