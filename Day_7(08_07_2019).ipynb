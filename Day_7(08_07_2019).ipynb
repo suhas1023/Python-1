{
  "nbformat": 4,
  "nbformat_minor": 0,
  "metadata": {
    "colab": {
      "name": "Day 7(08-07-2019).ipynb",
      "version": "0.3.2",
      "provenance": [],
      "include_colab_link": true
    },
    "kernelspec": {
      "name": "python3",
      "display_name": "Python 3"
    }
  },
  "cells": [
    {
      "cell_type": "markdown",
      "metadata": {
        "id": "view-in-github",
        "colab_type": "text"
      },
      "source": [
        "<a href=\"https://colab.research.google.com/github/suhas1023/Python-1/blob/master/Day_7(08_07_2019).ipynb\" target=\"_parent\"><img src=\"https://colab.research.google.com/assets/colab-badge.svg\" alt=\"Open In Colab\"/></a>"
      ]
    },
    {
      "cell_type": "code",
      "metadata": {
        "id": "y_xFHc6ItSO0",
        "colab_type": "code",
        "outputId": "920d8c0f-44c1-4885-a34f-30bbff0594b9",
        "colab": {
          "base_uri": "https://localhost:8080/",
          "height": 34
        }
      },
      "source": [
        "def primeCount(n):\n",
        "    cnt = 0\n",
        "    for a in range(2,n+1):\n",
        "        k = 0\n",
        "        for i in range(2,a//2+1):\n",
        "            if a % i == 0:\n",
        "                k = k + 1\n",
        "        if(k<=0):\n",
        "            cnt = cnt + 1\n",
        "    return cnt\n",
        "primeCount(10)  \n",
        "            \n"
      ],
      "execution_count": 0,
      "outputs": [
        {
          "output_type": "execute_result",
          "data": {
            "text/plain": [
              "4"
            ]
          },
          "metadata": {
            "tags": []
          },
          "execution_count": 1
        }
      ]
    },
    {
      "cell_type": "code",
      "metadata": {
        "id": "n4MVU_1B2m0-",
        "colab_type": "code",
        "outputId": "e329a87f-3af2-4d1a-a16c-9518c1a1dfde",
        "colab": {
          "base_uri": "https://localhost:8080/",
          "height": 168
        }
      },
      "source": [
        "for n in range(1,10):\n",
        "  print(n)\n",
        "      "
      ],
      "execution_count": 0,
      "outputs": [
        {
          "output_type": "stream",
          "text": [
            "1\n",
            "2\n",
            "3\n",
            "4\n",
            "5\n",
            "6\n",
            "7\n",
            "8\n",
            "9\n"
          ],
          "name": "stdout"
        }
      ]
    },
    {
      "cell_type": "code",
      "metadata": {
        "id": "VP-pMJCJ3Qtl",
        "colab_type": "code",
        "outputId": "60093ea0-c410-40cf-bde3-b3a42277910c",
        "colab": {
          "base_uri": "https://localhost:8080/",
          "height": 50
        }
      },
      "source": [
        "def factorial(n):\n",
        "  fact=1\n",
        "  for i in range(2,n+1):\n",
        "      fact *=i\n",
        "  return fact\n",
        "def digitfactsum(n):\n",
        "  sum=0\n",
        "  buffer=n\n",
        "  while n!=0:\n",
        "      r=n%10\n",
        "      sum+=factorial(r)\n",
        "      n=n//10\n",
        "  if sum==buffer:\n",
        "      return \"yes\"\n",
        "  else:\n",
        "      return \"no\"\n",
        "  return\n",
        "print(digitfactsum(145))\n",
        "print(digitfactsum(123))"
      ],
      "execution_count": 0,
      "outputs": [
        {
          "output_type": "stream",
          "text": [
            "yes\n",
            "no\n"
          ],
          "name": "stdout"
        }
      ]
    },
    {
      "cell_type": "code",
      "metadata": {
        "id": "tGYqk4vyCZLu",
        "colab_type": "code",
        "outputId": "80d7c9bc-8b3a-4c30-fd99-1bc300bcdbb2",
        "colab": {
          "base_uri": "https://localhost:8080/",
          "height": 101
        }
      },
      "source": [
        "s1 = 'python'\n",
        "print(s1[0])\n",
        "print(s1[1])\n",
        "print(s1[5])\n",
        "print(s1[len(s1)-1])\n",
        "print(len(s1))"
      ],
      "execution_count": 0,
      "outputs": [
        {
          "output_type": "stream",
          "text": [
            "p\n",
            "y\n",
            "n\n",
            "n\n",
            "6\n"
          ],
          "name": "stdout"
        }
      ]
    },
    {
      "cell_type": "code",
      "metadata": {
        "id": "I7j7u3gJYo5I",
        "colab_type": "code",
        "outputId": "3883f637-6998-4b1c-c19a-00ef782c5915",
        "colab": {
          "base_uri": "https://localhost:8080/",
          "height": 118
        }
      },
      "source": [
        "print(s1[-1])\n",
        "print(s1[-2])\n",
        "print(s1[0:2])\n",
        "print(s1[:2])\n",
        "print(s1[-3:])\n",
        "print(s1[2:])"
      ],
      "execution_count": 0,
      "outputs": [
        {
          "output_type": "stream",
          "text": [
            "n\n",
            "o\n",
            "py\n",
            "py\n",
            "hon\n",
            "thon\n"
          ],
          "name": "stdout"
        }
      ]
    },
    {
      "cell_type": "code",
      "metadata": {
        "id": "M1tttfyXbYD3",
        "colab_type": "code",
        "outputId": "fe97daa9-be66-46c8-e754-dc27eadfb640",
        "colab": {
          "base_uri": "https://localhost:8080/",
          "height": 168
        }
      },
      "source": [
        "print(s1[1:-1])\n",
        "print(s1[len(s1)//2])\n",
        "print(s1[-1::-1])\n",
        "print(s1[-1:-3:-1])\n",
        "print(s1[::2])\n",
        "print(s1[::3])\n",
        "print(s1[::-2])\n",
        "print(s1[-2::-2])\n",
        "print(s1[::-1])\n",
        "        "
      ],
      "execution_count": 0,
      "outputs": [
        {
          "output_type": "stream",
          "text": [
            "ytho\n",
            "h\n",
            "nohtyp\n",
            "no\n",
            "pto\n",
            "ph\n",
            "nhy\n",
            "otp\n",
            "nohtyp\n"
          ],
          "name": "stdout"
        }
      ]
    },
    {
      "cell_type": "code",
      "metadata": {
        "id": "1XabkQ3ZdOLr",
        "colab_type": "code",
        "outputId": "a8b691e2-e720-42df-fd85-9ed56e58d417",
        "colab": {
          "base_uri": "https://localhost:8080/",
          "height": 50
        }
      },
      "source": [
        "def isPalindrome(str):\n",
        "    if str == str[::-1]:\n",
        "        return True\n",
        "    else:\n",
        "        return False\n",
        "    return\n",
        "print(isPalindrome(\"python\"))\n",
        "print(isPalindrome('ganag'))"
      ],
      "execution_count": 0,
      "outputs": [
        {
          "output_type": "stream",
          "text": [
            "False\n",
            "True\n"
          ],
          "name": "stdout"
        }
      ]
    },
    {
      "cell_type": "code",
      "metadata": {
        "id": "wmYrL0HtwDcp",
        "colab_type": "code",
        "outputId": "64c50339-e323-4173-adea-2549fcb62408",
        "colab": {
          "base_uri": "https://localhost:8080/",
          "height": 34
        }
      },
      "source": [
        "def printUpper(x):\n",
        "    for i in range(len(x)):\n",
        "        if ord(x[i]) >= 65 and ord(x[i]) <= 90:\n",
        "            print(x[i],end = \" \")\n",
        "    return          \n",
        "printUpper(\"PYTHON\")"
      ],
      "execution_count": 0,
      "outputs": [
        {
          "output_type": "stream",
          "text": [
            "P Y T H O N "
          ],
          "name": "stdout"
        }
      ]
    },
    {
      "cell_type": "code",
      "metadata": {
        "id": "wD7yiil1ydtA",
        "colab_type": "code",
        "colab": {}
      },
      "source": [
        ""
      ],
      "execution_count": 0,
      "outputs": []
    }
  ]
}