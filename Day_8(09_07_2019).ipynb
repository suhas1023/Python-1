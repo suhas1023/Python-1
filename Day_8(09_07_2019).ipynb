{
  "nbformat": 4,
  "nbformat_minor": 0,
  "metadata": {
    "colab": {
      "name": "Day-8(09-07-2019)",
      "version": "0.3.2",
      "provenance": [],
      "collapsed_sections": [],
      "include_colab_link": true
    },
    "kernelspec": {
      "name": "python3",
      "display_name": "Python 3"
    }
  },
  "cells": [
    {
      "cell_type": "markdown",
      "metadata": {
        "id": "view-in-github",
        "colab_type": "text"
      },
      "source": [
        "<a href=\"https://colab.research.google.com/github/suhas1023/Python-1/blob/master/Day_8(09_07_2019).ipynb\" target=\"_parent\"><img src=\"https://colab.research.google.com/assets/colab-badge.svg\" alt=\"Open In Colab\"/></a>"
      ]
    },
    {
      "cell_type": "code",
      "metadata": {
        "id": "_nBVz7o53pJz",
        "colab_type": "code",
        "outputId": "46156bb9-d1b6-4fb6-e394-86625ddfef46",
        "colab": {
          "base_uri": "https://localhost:8080/",
          "height": 134
        }
      },
      "source": [
        "lst = [1,8,16,9,2]\n",
        "print(lst)\n",
        "print(lst[0])\n",
        "print(lst[1])\n",
        "print(lst[-1])\n",
        "print(lst[-2])\n",
        "print(lst[1:])\n",
        "print(lst[1:4])"
      ],
      "execution_count": 0,
      "outputs": [
        {
          "output_type": "stream",
          "text": [
            "[1, 8, 16, 9, 2]\n",
            "1\n",
            "8\n",
            "2\n",
            "9\n",
            "[8, 16, 9, 2]\n",
            "[8, 16, 9]\n"
          ],
          "name": "stdout"
        }
      ]
    },
    {
      "cell_type": "code",
      "metadata": {
        "id": "-7GP-imo4zJ9",
        "colab_type": "code",
        "outputId": "331c1290-b369-4424-af63-0d9812ec312f",
        "colab": {
          "base_uri": "https://localhost:8080/",
          "height": 229
        }
      },
      "source": [
        "lst1\n",
        "print(min(lst1))\n",
        "print(max(lst1))\n",
        "print(sum(lst1))\n",
        "print(sum(lst1)//len(lst1))\n",
        "print(sum(lst1[1::2])//len(lst1[1::2]))"
      ],
      "execution_count": 0,
      "outputs": [
        {
          "output_type": "error",
          "ename": "NameError",
          "evalue": "ignored",
          "traceback": [
            "\u001b[0;31m---------------------------------------------------------------------------\u001b[0m",
            "\u001b[0;31mNameError\u001b[0m                                 Traceback (most recent call last)",
            "\u001b[0;32m<ipython-input-7-45c0b5651482>\u001b[0m in \u001b[0;36m<module>\u001b[0;34m()\u001b[0m\n\u001b[0;32m----> 1\u001b[0;31m \u001b[0mlst1\u001b[0m\u001b[0;34m\u001b[0m\u001b[0;34m\u001b[0m\u001b[0m\n\u001b[0m\u001b[1;32m      2\u001b[0m \u001b[0mprint\u001b[0m\u001b[0;34m(\u001b[0m\u001b[0mmin\u001b[0m\u001b[0;34m(\u001b[0m\u001b[0mlst1\u001b[0m\u001b[0;34m)\u001b[0m\u001b[0;34m)\u001b[0m\u001b[0;34m\u001b[0m\u001b[0;34m\u001b[0m\u001b[0m\n\u001b[1;32m      3\u001b[0m \u001b[0mprint\u001b[0m\u001b[0;34m(\u001b[0m\u001b[0mmax\u001b[0m\u001b[0;34m(\u001b[0m\u001b[0mlst1\u001b[0m\u001b[0;34m)\u001b[0m\u001b[0;34m)\u001b[0m\u001b[0;34m\u001b[0m\u001b[0;34m\u001b[0m\u001b[0m\n\u001b[1;32m      4\u001b[0m \u001b[0mprint\u001b[0m\u001b[0;34m(\u001b[0m\u001b[0msum\u001b[0m\u001b[0;34m(\u001b[0m\u001b[0mlst1\u001b[0m\u001b[0;34m)\u001b[0m\u001b[0;34m)\u001b[0m\u001b[0;34m\u001b[0m\u001b[0;34m\u001b[0m\u001b[0m\n\u001b[1;32m      5\u001b[0m \u001b[0mprint\u001b[0m\u001b[0;34m(\u001b[0m\u001b[0msum\u001b[0m\u001b[0;34m(\u001b[0m\u001b[0mlst1\u001b[0m\u001b[0;34m)\u001b[0m\u001b[0;34m//\u001b[0m\u001b[0mlen\u001b[0m\u001b[0;34m(\u001b[0m\u001b[0mlst1\u001b[0m\u001b[0;34m)\u001b[0m\u001b[0;34m)\u001b[0m\u001b[0;34m\u001b[0m\u001b[0;34m\u001b[0m\u001b[0m\n",
            "\u001b[0;31mNameError\u001b[0m: name 'lst1' is not defined"
          ]
        }
      ]
    },
    {
      "cell_type": "code",
      "metadata": {
        "id": "yV7rWJFaCC-Z",
        "colab_type": "code",
        "outputId": "b2944fa2-bf96-40dc-9c0b-719fc6dec3d2",
        "colab": {
          "base_uri": "https://localhost:8080/",
          "height": 34
        }
      },
      "source": [
        "lst\n",
        "lst.append(24)\n",
        "lst\n",
        "lst.insert(2,56)\n",
        "lst\n",
        "lst.count(18)\n",
        "lst.index(56)\n",
        "lst.sort()\n",
        "lst\n",
        "lst.pop()\n",
        "lst\n",
        "lst.pop(1)\n",
        "lst2 = [123,23,45]\n",
        "lst.extend(lst2)\n",
        "lst"
      ],
      "execution_count": 0,
      "outputs": [
        {
          "output_type": "execute_result",
          "data": {
            "text/plain": [
              "[23, 45, 56, 123, 23, 45]"
            ]
          },
          "metadata": {
            "tags": []
          },
          "execution_count": 11
        }
      ]
    },
    {
      "cell_type": "code",
      "metadata": {
        "id": "hEz3p13jEhoD",
        "colab_type": "code",
        "outputId": "ef9cf80d-c078-4ea4-dab4-5833710e59fd",
        "colab": {
          "base_uri": "https://localhost:8080/",
          "height": 34
        }
      },
      "source": [
        "li = [1,9,8,2,6,3]\n",
        "print(li[-1::-2])"
      ],
      "execution_count": 0,
      "outputs": [
        {
          "output_type": "stream",
          "text": [
            "[3, 2, 9]\n"
          ],
          "name": "stdout"
        }
      ]
    },
    {
      "cell_type": "code",
      "metadata": {
        "id": "_hNGBpXtFELN",
        "colab_type": "code",
        "outputId": "d2fbd4ad-330f-4761-a516-578bc7fc7037",
        "colab": {
          "base_uri": "https://localhost:8080/",
          "height": 34
        }
      },
      "source": [
        "li = [1,9,8,2,6,3176,77,'hh','khy8',8077.6897]\n",
        "print(li[-1::-3])"
      ],
      "execution_count": 0,
      "outputs": [
        {
          "output_type": "stream",
          "text": [
            "[8077.6897, 77, 2, 1]\n"
          ],
          "name": "stdout"
        }
      ]
    },
    {
      "cell_type": "code",
      "metadata": {
        "id": "ulArEQmkJQ_B",
        "colab_type": "code",
        "outputId": "faa1cebb-985d-41de-c2a3-3fc733b7650e",
        "colab": {
          "base_uri": "https://localhost:8080/",
          "height": 34
        }
      },
      "source": [
        "def secondLarge(li):\n",
        "    li.sort()\n",
        "    return li[-2]\n",
        "li = [1,19,6,2,8,18,3]\n",
        "secondLarge(li)"
      ],
      "execution_count": 0,
      "outputs": [
        {
          "output_type": "execute_result",
          "data": {
            "text/plain": [
              "18"
            ]
          },
          "metadata": {
            "tags": []
          },
          "execution_count": 17
        }
      ]
    },
    {
      "cell_type": "code",
      "metadata": {
        "id": "OCEK7vuXJuM1",
        "colab_type": "code",
        "outputId": "2ddeb616-c641-4480-92da-0dcdf2603308",
        "colab": {
          "base_uri": "https://localhost:8080/",
          "height": 34
        }
      },
      "source": [
        "def linearSearch1(li,tarItem):\n",
        "    for x in range(len(li)):\n",
        "        if li[x] == tarItem:\n",
        "            return x\n",
        "    return -1\n",
        "li = [1,19,6,2,8,18,3]\n",
        "linearSearch1(li,225)"
      ],
      "execution_count": 0,
      "outputs": [
        {
          "output_type": "execute_result",
          "data": {
            "text/plain": [
              "-1"
            ]
          },
          "metadata": {
            "tags": []
          },
          "execution_count": 20
        }
      ]
    },
    {
      "cell_type": "code",
      "metadata": {
        "id": "pG0IJXZqYtii",
        "colab_type": "code",
        "outputId": "17b552a1-3f57-44f8-b7d3-f6e67fd12b00",
        "colab": {
          "base_uri": "https://localhost:8080/",
          "height": 34
        }
      },
      "source": [
        "def linearSearch2(li,tarItem):\n",
        "    for x in range(len(li)):\n",
        "        if li[x] == tarItem:\n",
        "            print(x,end=\" \")\n",
        "    return\n",
        "li = [1,5,9,5,15,1,2,5]\n",
        "linearSearch2(li,5)"
      ],
      "execution_count": 0,
      "outputs": [
        {
          "output_type": "stream",
          "text": [
            "1 3 7 "
          ],
          "name": "stdout"
        }
      ]
    },
    {
      "cell_type": "code",
      "metadata": {
        "id": "-HEpMFvdbwR-",
        "colab_type": "code",
        "outputId": "ea3d34fe-fdae-44d7-8a71-bfb6fb8697e5",
        "colab": {
          "base_uri": "https://localhost:8080/",
          "height": 34
        }
      },
      "source": [
        "def linearSearch3(li,tarItem):\n",
        "    for x in range(len(li)):\n",
        "        if li[x] == tarItem:\n",
        "            j = 0\n",
        "            while j != x+1:\n",
        "                print(\"!\",end=\" \")\n",
        "                j = j + 1\n",
        "            print(end=\" \")    \n",
        "    return\n",
        "li = [1,5,9,6,5,15,1,2,5]\n",
        "linearSearch3(li,5)"
      ],
      "execution_count": 0,
      "outputs": [
        {
          "output_type": "stream",
          "text": [
            "! !  ! ! ! ! !  ! ! ! ! ! ! ! ! !  "
          ],
          "name": "stdout"
        }
      ]
    },
    {
      "cell_type": "code",
      "metadata": {
        "id": "IyPf5SIShJJo",
        "colab_type": "code",
        "outputId": "890c3718-2976-442f-d7a4-6d6683f5e839",
        "colab": {
          "base_uri": "https://localhost:8080/",
          "height": 34
        }
      },
      "source": [
        "def linearSearch4(li,tarItem):\n",
        "    sum = 0\n",
        "    for x in range(len(li)):\n",
        "        if li[x] % 3 == 0 and li[x] % 5 ==0:\n",
        "            sum += li[x]\n",
        "    return sum\n",
        "li = [12,3,45,9,18,15,23,34,56]\n",
        "linearSearch4(li,5)           "
      ],
      "execution_count": 0,
      "outputs": [
        {
          "output_type": "execute_result",
          "data": {
            "text/plain": [
              "60"
            ]
          },
          "metadata": {
            "tags": []
          },
          "execution_count": 26
        }
      ]
    },
    {
      "cell_type": "code",
      "metadata": {
        "id": "qzhhGX86j30r",
        "colab_type": "code",
        "outputId": "8ec40fa9-64f5-4c66-db01-6718a91d8c87",
        "colab": {
          "base_uri": "https://localhost:8080/",
          "height": 34
        }
      },
      "source": [
        "lst = ['gitam','engineering','cse','civi']\n",
        "print(lst)"
      ],
      "execution_count": 0,
      "outputs": [
        {
          "output_type": "stream",
          "text": [
            "['gitam', 'engineering', 'cse', 'civi']\n"
          ],
          "name": "stdout"
        }
      ]
    },
    {
      "cell_type": "code",
      "metadata": {
        "id": "d_RM2SwI4y-G",
        "colab_type": "code",
        "outputId": "e69820ba-0635-4a57-f770-2139fb388914",
        "colab": {
          "base_uri": "https://localhost:8080/",
          "height": 34
        }
      },
      "source": [
        "def linearSearch6(li):\n",
        "    \n",
        "    for x in range(len(li)):\n",
        "        if x == 0 or x == len(li) - 1:\n",
        "            print(li[x],end=\" \")\n",
        "        elif li[x-1] % 2 == 0 and li[x+1] %2 == 0:\n",
        "            print(li[x],end=\" \")\n",
        "    return\n",
        "li = [1,6,9,4,16,19,22]\n",
        "linearSearch6(li)"
      ],
      "execution_count": 0,
      "outputs": [
        {
          "output_type": "stream",
          "text": [
            "1 9 19 22 "
          ],
          "name": "stdout"
        }
      ]
    },
    {
      "cell_type": "code",
      "metadata": {
        "id": "iZ3usLOUAqzN",
        "colab_type": "code",
        "outputId": "51552274-0646-40d2-dc3f-657fe1c2f94c",
        "colab": {
          "base_uri": "https://localhost:8080/",
          "height": 34
        }
      },
      "source": [
        "def numberListConversion(n):\n",
        "    li = []\n",
        "    while n != 0:\n",
        "        r = n % 10\n",
        "        li.append(r)\n",
        "        n = n // 10\n",
        "    li.reverse()\n",
        "    return li\n",
        "numberListConversion(14569)  "
      ],
      "execution_count": 0,
      "outputs": [
        {
          "output_type": "execute_result",
          "data": {
            "text/plain": [
              "[1, 4, 5, 6, 9]"
            ]
          },
          "metadata": {
            "tags": []
          },
          "execution_count": 33
        }
      ]
    },
    {
      "cell_type": "code",
      "metadata": {
        "id": "jue0ZIm7BWY-",
        "colab_type": "code",
        "outputId": "541f82e6-50fe-43e5-c2c6-a42f0a67caef",
        "colab": {
          "base_uri": "https://localhost:8080/",
          "height": 34
        }
      },
      "source": [
        "def countCharOccurances(s,c):\n",
        "    cnt = 0\n",
        "    for ch in s:\n",
        "        if ch == c:\n",
        "            cnt += 1\n",
        "    return cnt\n",
        "countCharOccurances(\"python programming\",'m')"
      ],
      "execution_count": 0,
      "outputs": [
        {
          "output_type": "execute_result",
          "data": {
            "text/plain": [
              "2"
            ]
          },
          "metadata": {
            "tags": []
          },
          "execution_count": 35
        }
      ]
    },
    {
      "cell_type": "code",
      "metadata": {
        "id": "hCEOgMAKEWSM",
        "colab_type": "code",
        "outputId": "5bb0a748-53ab-4a17-a634-d4bd34f3be05",
        "colab": {
          "base_uri": "https://localhost:8080/",
          "height": 34
        }
      },
      "source": [
        "def strintToListConversion(s):\n",
        "    li = s.split()\n",
        "    numberslist = []\n",
        "    for i in li:\n",
        "        numberslist.append(int(i))\n",
        "    return numberslist\n",
        "s = \"1 2 3 4 5 6\"\n",
        "strintToListConversion(s)\n",
        "      "
      ],
      "execution_count": 0,
      "outputs": [
        {
          "output_type": "execute_result",
          "data": {
            "text/plain": [
              "[1, 2, 3, 4, 5, 6]"
            ]
          },
          "metadata": {
            "tags": []
          },
          "execution_count": 37
        }
      ]
    },
    {
      "cell_type": "code",
      "metadata": {
        "id": "d6RnfAArHknw",
        "colab_type": "code",
        "colab": {}
      },
      "source": [
        ""
      ],
      "execution_count": 0,
      "outputs": []
    }
  ]
}