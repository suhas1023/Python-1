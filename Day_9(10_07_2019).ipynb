{
  "nbformat": 4,
  "nbformat_minor": 0,
  "metadata": {
    "colab": {
      "name": "Day-9(10-07-2019).ipynb",
      "version": "0.3.2",
      "provenance": [],
      "collapsed_sections": [],
      "include_colab_link": true
    },
    "kernelspec": {
      "name": "python3",
      "display_name": "Python 3"
    }
  },
  "cells": [
    {
      "cell_type": "markdown",
      "metadata": {
        "id": "view-in-github",
        "colab_type": "text"
      },
      "source": [
        "<a href=\"https://colab.research.google.com/github/suhas1023/Python-1/blob/master/Day_9(10_07_2019).ipynb\" target=\"_parent\"><img src=\"https://colab.research.google.com/assets/colab-badge.svg\" alt=\"Open In Colab\"/></a>"
      ]
    },
    {
      "cell_type": "code",
      "metadata": {
        "id": "MZ2pY-yC9H3A",
        "colab_type": "code",
        "outputId": "077944d8-f87a-4105-fc7b-8f20dc9bd227",
        "colab": {
          "base_uri": "https://localhost:8080/",
          "height": 34
        }
      },
      "source": [
        "d1 = {\"Name\":\"Gitam\",\"EmailId\":\"gitam@mmail.com\",\"Address\":\"Hyderabad\"}\n",
        "print(d1)"
      ],
      "execution_count": 0,
      "outputs": [
        {
          "output_type": "stream",
          "text": [
            "{'Name': 'Gitam', 'EmailId': 'gitam@mmail.com', 'Address': 'Hyderabad'}\n"
          ],
          "name": "stdout"
        }
      ]
    },
    {
      "cell_type": "code",
      "metadata": {
        "id": "Oy8gftr6__yv",
        "colab_type": "code",
        "outputId": "767bd1dc-2425-4cec-e904-cfda44b6ce72",
        "colab": {
          "base_uri": "https://localhost:8080/",
          "height": 34
        }
      },
      "source": [
        "print(len(d1))"
      ],
      "execution_count": 0,
      "outputs": [
        {
          "output_type": "stream",
          "text": [
            "3\n"
          ],
          "name": "stdout"
        }
      ]
    },
    {
      "cell_type": "code",
      "metadata": {
        "id": "PeFZ_8hRAPoM",
        "colab_type": "code",
        "outputId": "11d3be71-1789-4440-9e66-c12158983afc",
        "colab": {
          "base_uri": "https://localhost:8080/",
          "height": 34
        }
      },
      "source": [
        "print(d1[\"EmailId\"])"
      ],
      "execution_count": 0,
      "outputs": [
        {
          "output_type": "stream",
          "text": [
            "gitam@mmail.com\n"
          ],
          "name": "stdout"
        }
      ]
    },
    {
      "cell_type": "code",
      "metadata": {
        "id": "JrS3pBthCVld",
        "colab_type": "code",
        "colab": {}
      },
      "source": [
        "del d1[\"EmailId\"]"
      ],
      "execution_count": 0,
      "outputs": []
    },
    {
      "cell_type": "code",
      "metadata": {
        "id": "N3UBFWWdC56L",
        "colab_type": "code",
        "outputId": "5b0110b0-195e-4515-95a7-c985f8b1c601",
        "colab": {
          "base_uri": "https://localhost:8080/",
          "height": 34
        }
      },
      "source": [
        "print(d1)"
      ],
      "execution_count": 0,
      "outputs": [
        {
          "output_type": "stream",
          "text": [
            "{'Name': 'Gitam', 'Address': 'Hyderabad'}\n"
          ],
          "name": "stdout"
        }
      ]
    },
    {
      "cell_type": "code",
      "metadata": {
        "id": "4viCB-pWER2S",
        "colab_type": "code",
        "outputId": "342b8a83-ca57-4dd8-e46a-5246e0c460e8",
        "colab": {
          "base_uri": "https://localhost:8080/",
          "height": 34
        }
      },
      "source": [
        "t1 = (1,2,3,4,5,6)\n",
        "t1\n",
        "type(t1)"
      ],
      "execution_count": 0,
      "outputs": [
        {
          "output_type": "execute_result",
          "data": {
            "text/plain": [
              "tuple"
            ]
          },
          "metadata": {
            "tags": []
          },
          "execution_count": 18
        }
      ]
    },
    {
      "cell_type": "code",
      "metadata": {
        "id": "ELLp2swJF8Cy",
        "colab_type": "code",
        "outputId": "eea3a042-d637-4be8-ca56-9083f1ff6f0c",
        "colab": {
          "base_uri": "https://localhost:8080/",
          "height": 34
        }
      },
      "source": [
        "d1.values()"
      ],
      "execution_count": 0,
      "outputs": [
        {
          "output_type": "execute_result",
          "data": {
            "text/plain": [
              "dict_values(['Gitam', 'Hyderabad'])"
            ]
          },
          "metadata": {
            "tags": []
          },
          "execution_count": 19
        }
      ]
    },
    {
      "cell_type": "code",
      "metadata": {
        "id": "R0sR63JoGBKc",
        "colab_type": "code",
        "outputId": "6708a518-63ce-4251-91bf-b581b0406518",
        "colab": {
          "base_uri": "https://localhost:8080/",
          "height": 67
        }
      },
      "source": [
        "contacts = {}\n",
        "def addContact(name,phone):\n",
        "    if name not in contacts:\n",
        "        contacts[name] = phone\n",
        "        print(\"contact is details are added\")\n",
        "    else:\n",
        "        print(\"Contact details are already exists\")\n",
        "    return\n",
        "addContact('Anil','9876543210')\n",
        "addContact('Naveen','9966552211')\n",
        "addContact('Anil','9876543210')"
      ],
      "execution_count": 0,
      "outputs": [
        {
          "output_type": "stream",
          "text": [
            "contact is details are added\n",
            "contact is details are added\n",
            "Contact details are already exists\n"
          ],
          "name": "stdout"
        }
      ]
    },
    {
      "cell_type": "code",
      "metadata": {
        "id": "lobQlsI-Jp6R",
        "colab_type": "code",
        "outputId": "36a38072-fd2a-4387-c68a-fcb4f7449008",
        "colab": {
          "base_uri": "https://localhost:8080/",
          "height": 67
        }
      },
      "source": [
        "def searchContact(name):\n",
        "    if name in contacts:\n",
        "        print(name,\" : \",contacts[name])\n",
        "    else:\n",
        "        print(\"%s does not exists\" % name)\n",
        "    return\n",
        "searchContact('Anil')\n",
        "searchContact('Harsha')\n",
        "searchContact('Naveen')"
      ],
      "execution_count": 0,
      "outputs": [
        {
          "output_type": "stream",
          "text": [
            "Anil  :  9876543210\n",
            "Harsha does not exists\n",
            "Naveen  :  9966552211\n"
          ],
          "name": "stdout"
        }
      ]
    },
    {
      "cell_type": "code",
      "metadata": {
        "id": "vk9KrUsXLo25",
        "colab_type": "code",
        "colab": {}
      },
      "source": [
        "def deleteContacts(name):\n",
        "   if name in contacts:\n",
        "       del contacts[name]\n",
        "       print(name,\" deleted successfully\")\n",
        "   else:\n",
        "       print(name,\" not exists\")\n",
        "   return\n",
        "deleteContacts('Akka') "
      ],
      "execution_count": 0,
      "outputs": []
    },
    {
      "cell_type": "code",
      "metadata": {
        "id": "VOocNOqiRxHo",
        "colab_type": "code",
        "colab": {}
      },
      "source": [
        "def importContact(newContacts):\n",
        "   contacts.update(newContacts)\n",
        "   print(len(newContacts.keys()),\"Contacts added successfully\")\n",
        "   return\n",
        "newContacts = {\"Manikanta\":9912507593,'Amma':9848613566}  \n",
        "importContact(newContacts)"
      ],
      "execution_count": 0,
      "outputs": []
    },
    {
      "cell_type": "code",
      "metadata": {
        "id": "B0fSLUDcV21I",
        "colab_type": "code",
        "outputId": "e3fd75ab-83dc-407f-a948-0260a3cdfc54",
        "colab": {
          "base_uri": "https://localhost:8080/",
          "height": 34
        }
      },
      "source": [
        "def reverseFibonacci(n):\n",
        "    a = [0] * n\n",
        "    a[0] = 0\n",
        "    a[1] = 1\n",
        "    for i in range(2, n):\n",
        "        a[i] = a[i - 2] + a[i - 1]\n",
        "    for i in range(n - 1, -1, -1):\n",
        "        print(a[i],end=\" \")\n",
        "n = 5\n",
        "reverseFibonacci(n)"
      ],
      "execution_count": 0,
      "outputs": [
        {
          "output_type": "stream",
          "text": [
            "3 2 1 1 0 "
          ],
          "name": "stdout"
        }
      ]
    },
    {
      "cell_type": "code",
      "metadata": {
        "id": "QuAoLQcUYWnK",
        "colab_type": "code",
        "outputId": "11e8b7d1-1268-4864-d426-7280d22708b1",
        "colab": {
          "base_uri": "https://localhost:8080/",
          "height": 34
        }
      },
      "source": [
        "li = [\"Python\",\"programming\"]\n",
        "print(\"%s %s\" % (li[0],li[1]))  "
      ],
      "execution_count": 0,
      "outputs": [
        {
          "output_type": "stream",
          "text": [
            "Python programming\n"
          ],
          "name": "stdout"
        }
      ]
    },
    {
      "cell_type": "code",
      "metadata": {
        "id": "uD6IJe-5lSfe",
        "colab_type": "code",
        "outputId": "c4b12aaa-a4e0-41f0-8d9b-782f1e965c30",
        "colab": {
          "base_uri": "https://localhost:8080/",
          "height": 34
        }
      },
      "source": [
        "print(\"{0} {1}\".format(li[0],li[1]))"
      ],
      "execution_count": 0,
      "outputs": [
        {
          "output_type": "stream",
          "text": [
            "Python programming\n"
          ],
          "name": "stdout"
        }
      ]
    },
    {
      "cell_type": "code",
      "metadata": {
        "id": "FAtSFNPDlhr4",
        "colab_type": "code",
        "outputId": "7530c7ee-ffc7-4f8c-9efa-cd982541a496",
        "colab": {
          "base_uri": "https://localhost:8080/",
          "height": 34
        }
      },
      "source": [
        "li1 = [1,2,3,4]\n",
        "print(\"%d %d %d %d\" % (li1[0],li1[1],li1[2],li1[3]))"
      ],
      "execution_count": 0,
      "outputs": [
        {
          "output_type": "stream",
          "text": [
            "1 2 3 4\n"
          ],
          "name": "stdout"
        }
      ]
    },
    {
      "cell_type": "code",
      "metadata": {
        "id": "aoTa1irfmZYJ",
        "colab_type": "code",
        "outputId": "60ef2701-23bb-43be-d357-043dad9d2490",
        "colab": {
          "base_uri": "https://localhost:8080/",
          "height": 34
        }
      },
      "source": [
        "print(\"{0} {1} {2} {3}\")"
      ],
      "execution_count": 0,
      "outputs": [
        {
          "output_type": "stream",
          "text": [
            "{0} {1} {2} {3}\n"
          ],
          "name": "stdout"
        }
      ]
    },
    {
      "cell_type": "code",
      "metadata": {
        "id": "vpZ_FuvZott4",
        "colab_type": "code",
        "outputId": "7a9b2f1e-b966-4e43-9371-f03659c247d8",
        "colab": {
          "base_uri": "https://localhost:8080/",
          "height": 50
        }
      },
      "source": [
        "s1 = 'Gitam'\n",
        "print(s1.upper())\n",
        "print(s1.lower())"
      ],
      "execution_count": 0,
      "outputs": [
        {
          "output_type": "stream",
          "text": [
            "GITAM\n",
            "gitam\n"
          ],
          "name": "stdout"
        }
      ]
    },
    {
      "cell_type": "code",
      "metadata": {
        "id": "tv5WnBQHotyT",
        "colab_type": "code",
        "outputId": "98f1e015-dbc6-4bd1-cd1f-937489806b8d",
        "colab": {
          "base_uri": "https://localhost:8080/",
          "height": 50
        }
      },
      "source": [
        "s1 = 'GITAM'\n",
        "print(s1.isupper())\n",
        "print(s1.islower())"
      ],
      "execution_count": 0,
      "outputs": [
        {
          "output_type": "stream",
          "text": [
            "True\n",
            "False\n"
          ],
          "name": "stdout"
        }
      ]
    },
    {
      "cell_type": "code",
      "metadata": {
        "id": "6NK64TU0t1Pu",
        "colab_type": "code",
        "outputId": "a4ce84cb-993c-46a7-b5b1-3adff9a957dc",
        "colab": {
          "base_uri": "https://localhost:8080/",
          "height": 50
        }
      },
      "source": [
        "s1 = \" \"\n",
        "s2 = \"py th on\"\n",
        "print(s1.isspace())\n",
        "print(s2.isspace())"
      ],
      "execution_count": 0,
      "outputs": [
        {
          "output_type": "stream",
          "text": [
            "True\n",
            "False\n"
          ],
          "name": "stdout"
        }
      ]
    },
    {
      "cell_type": "code",
      "metadata": {
        "id": "LDStgRAyu6bK",
        "colab_type": "code",
        "outputId": "f1d0cb3d-d2df-4b81-ab72-0aa859daa8b3",
        "colab": {
          "base_uri": "https://localhost:8080/",
          "height": 34
        }
      },
      "source": [
        "li = ['pyhton','programming','learning']\n",
        "print(\",\".join(li))"
      ],
      "execution_count": 0,
      "outputs": [
        {
          "output_type": "stream",
          "text": [
            "pyhton,programming,learning\n"
          ],
          "name": "stdout"
        }
      ]
    },
    {
      "cell_type": "code",
      "metadata": {
        "id": "KeFM5uqWvRsB",
        "colab_type": "code",
        "outputId": "f091585f-e2cc-44ad-9816-30db4ed2d952",
        "colab": {
          "base_uri": "https://localhost:8080/",
          "height": 34
        }
      },
      "source": [
        "s2 = \"Python Programming Easy to learn\"\n",
        "print(s2.split())"
      ],
      "execution_count": 0,
      "outputs": [
        {
          "output_type": "stream",
          "text": [
            "['Python', 'Programming', 'Easy', 'to', 'learn']\n"
          ],
          "name": "stdout"
        }
      ]
    },
    {
      "cell_type": "code",
      "metadata": {
        "id": "7IMPLufKx3UV",
        "colab_type": "code",
        "outputId": "7a22f855-ac94-40ff-8ee1-a819e678bd39",
        "colab": {
          "base_uri": "https://localhost:8080/",
          "height": 34
        }
      },
      "source": [
        "s2 = \"python programming Easy to learn\"\n",
        "li = list(s2)\n",
        "print(li)"
      ],
      "execution_count": 37,
      "outputs": [
        {
          "output_type": "stream",
          "text": [
            "['p', 'y', 't', 'h', 'o', 'n', ' ', 'p', 'r', 'o', 'g', 'r', 'a', 'm', 'm', 'i', 'n', 'g', ' ', 'E', 'a', 's', 'y', ' ', 't', 'o', ' ', 'l', 'e', 'a', 'r', 'n']\n"
          ],
          "name": "stdout"
        }
      ]
    },
    {
      "cell_type": "code",
      "metadata": {
        "id": "1ip2POihHQ3f",
        "colab_type": "code",
        "colab": {}
      },
      "source": [
        "elements \n",
        "   a[0] = 0 \n",
        "   a[1] = 1 \n",
        " \n",
        "   for i in range(2, n):"
      ],
      "execution_count": 0,
      "outputs": []
    },
    {
      "cell_type": "code",
      "metadata": {
        "id": "iQcKyvjLyByS",
        "colab_type": "code",
        "colab": {
          "base_uri": "https://localhost:8080/",
          "height": 50
        },
        "outputId": "59dd6c96-3554-4a5d-ffda-044a682bd4a1"
      },
      "source": [
        "def Q1(x):\n",
        "    while x-2!=0:\n",
        "        a=0\n",
        "        b=1\n",
        "        c=0\n",
        "        for i in range(x-2):\n",
        "            c=a+b\n",
        "            a=b\n",
        "            b=c\n",
        "        print(c,end=\" \")\n",
        "        x-=1\n",
        "    print('1 0')\n",
        "    return\n",
        "Q1(int(input(\"enter number\")))"
      ],
      "execution_count": 38,
      "outputs": [
        {
          "output_type": "stream",
          "text": [
            "enter number5\n",
            "3 2 1 1 0\n"
          ],
          "name": "stdout"
        }
      ]
    },
    {
      "cell_type": "code",
      "metadata": {
        "id": "Zi55Kgg_OOSN",
        "colab_type": "code",
        "colab": {
          "base_uri": "https://localhost:8080/",
          "height": 134
        },
        "outputId": "bc392e39-03ff-4e1a-f78c-73657775992b"
      },
      "source": [
        "def Q2(n):\n",
        "    a=[]\n",
        "    s=0\n",
        "    for i in range(n):\n",
        "        a.append(int(input()))\n",
        "    for i in range(n):\n",
        "        c=0\n",
        "        for j in range(n):\n",
        "            if i!=j:\n",
        "                if a[i]==a[j]:\n",
        "                    c+=1\n",
        "        if c==0:\n",
        "            s=s+a[i]\n",
        "    return s\n",
        "Q2(int(input(\"no of values\")))"
      ],
      "execution_count": 42,
      "outputs": [
        {
          "output_type": "stream",
          "text": [
            "no of values5\n",
            "44\n",
            "66\n",
            "44\n",
            "99\n",
            "66\n"
          ],
          "name": "stdout"
        },
        {
          "output_type": "execute_result",
          "data": {
            "text/plain": [
              "99"
            ]
          },
          "metadata": {
            "tags": []
          },
          "execution_count": 42
        }
      ]
    },
    {
      "cell_type": "code",
      "metadata": {
        "id": "LNYOfMfjPzoE",
        "colab_type": "code",
        "colab": {
          "base_uri": "https://localhost:8080/",
          "height": 235
        },
        "outputId": "76f67169-7857-4876-b585-7f807a57d391"
      },
      "source": [
        "def Q3(a,b):\n",
        "    if len(a)<=len(b):\n",
        "        n=len(a)\n",
        "        k=len(b)\n",
        "    else:\n",
        "        n=len(b)\n",
        "        k=len(a)\n",
        "    for i in range(n):\n",
        "        print(a[i],b[i])\n",
        "    for j in range(n,k):\n",
        "        if(len(a)<=len(b)):\n",
        "            print(b[j],'*')\n",
        "        else:\n",
        "            print(a[j],'*')\n",
        "    return\n",
        "x=str(input(\"enter str:\"))\n",
        "x=x.split()\n",
        "Q3(x[0],x[1])\n"
      ],
      "execution_count": 43,
      "outputs": [
        {
          "output_type": "stream",
          "text": [
            "enter str:dgjsagfjhaf fhudahsfuiah\n",
            "d f\n",
            "g h\n",
            "j u\n",
            "s d\n",
            "a a\n",
            "g h\n",
            "f s\n",
            "j f\n",
            "h u\n",
            "a i\n",
            "f a\n",
            "h *\n"
          ],
          "name": "stdout"
        }
      ]
    },
    {
      "cell_type": "code",
      "metadata": {
        "id": "pY1emUJwQ8eY",
        "colab_type": "code",
        "colab": {
          "base_uri": "https://localhost:8080/",
          "height": 50
        },
        "outputId": "a435f9a2-ee2e-4d09-c5dd-3c020e234cde"
      },
      "source": [
        "def Q4(a,b):\n",
        "    if len(a)>=len(b):\n",
        "        print(a.upper())\n",
        "    else:\n",
        "        print(b.upper())\n",
        "    return\n",
        "x=str(input(\"enter str:\"))\n",
        "x=x.split()\n",
        "Q4(x[0],x[1])\n"
      ],
      "execution_count": 44,
      "outputs": [
        {
          "output_type": "stream",
          "text": [
            "enter str:iron man\n",
            "IRON\n"
          ],
          "name": "stdout"
        }
      ]
    },
    {
      "cell_type": "code",
      "metadata": {
        "id": "WumhI9SgRO7s",
        "colab_type": "code",
        "colab": {
          "base_uri": "https://localhost:8080/",
          "height": 50
        },
        "outputId": "df87920f-5ea3-416b-9a5f-def99a5878ff"
      },
      "source": [
        "def Q5_1(a):\n",
        "    a=a.split()\n",
        "    for i in range (len(a)):\n",
        "        if a[i].istitle()==True:\n",
        "            print(a[i].upper(),end= \" \")\n",
        "    return\n",
        "x=str(input(\"enter str:\"))\n",
        "Q5_1(x)\n"
      ],
      "execution_count": 46,
      "outputs": [
        {
          "output_type": "stream",
          "text": [
            "enter str:Black Panther wakanda\n",
            "BLACK PANTHER "
          ],
          "name": "stdout"
        }
      ]
    },
    {
      "cell_type": "code",
      "metadata": {
        "id": "ZwZUljhERw0M",
        "colab_type": "code",
        "colab": {
          "base_uri": "https://localhost:8080/",
          "height": 168
        },
        "outputId": "b5d94583-9a16-49ad-8a04-053e2fc175ec"
      },
      "source": [
        "def Q7(n):\n",
        "    for i in range(len(n)):\n",
        "        n[i]=int(n[i])\n",
        "    for i in range(len(n)):\n",
        "        for j in range(n[i]):\n",
        "            print(\"*\",end=\"\")\n",
        "        print(\"\")\n",
        "    return\n",
        "x=input(\"enter num\")\n",
        "Q7(list(x))\n"
      ],
      "execution_count": 48,
      "outputs": [
        {
          "output_type": "stream",
          "text": [
            "enter num35956036\n",
            "***\n",
            "*****\n",
            "*********\n",
            "*****\n",
            "******\n",
            "\n",
            "***\n",
            "******\n"
          ],
          "name": "stdout"
        }
      ]
    },
    {
      "cell_type": "code",
      "metadata": {
        "id": "LCR6aQlISb7g",
        "colab_type": "code",
        "colab": {
          "base_uri": "https://localhost:8080/",
          "height": 34
        },
        "outputId": "0076e9e6-f51a-4981-be0f-d64157810685"
      },
      "source": [
        "import math\n",
        "def Nth_of_GP(a,r,N):\n",
        "    return(a*(int)(math.pow(r,N-1)))\n",
        "a = 2\n",
        "r = 3\n",
        "N = 5\n",
        "print(\"The\",N,\"th term of the series is :\",\n",
        "                           Nth_of_GP(a,r,N))"
      ],
      "execution_count": 50,
      "outputs": [
        {
          "output_type": "stream",
          "text": [
            "The 5 th term of the series is : 162\n"
          ],
          "name": "stdout"
        }
      ]
    },
    {
      "cell_type": "code",
      "metadata": {
        "id": "skrT7_R4UIGG",
        "colab_type": "code",
        "colab": {}
      },
      "source": [
        "def gen\n",
        "    "
      ],
      "execution_count": 0,
      "outputs": []
    }
  ]
}