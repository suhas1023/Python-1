{
  "nbformat": 4,
  "nbformat_minor": 0,
  "metadata": {
    "colab": {
      "name": "Day 5(05-07-2019).ipynb",
      "version": "0.3.2",
      "provenance": [],
      "include_colab_link": true
    },
    "kernelspec": {
      "name": "python3",
      "display_name": "Python 3"
    }
  },
  "cells": [
    {
      "cell_type": "markdown",
      "metadata": {
        "id": "view-in-github",
        "colab_type": "text"
      },
      "source": [
        "<a href=\"https://colab.research.google.com/github/suhas1023/Python-1/blob/master/Day_5(05_07_2019).ipynb\" target=\"_parent\"><img src=\"https://colab.research.google.com/assets/colab-badge.svg\" alt=\"Open In Colab\"/></a>"
      ]
    },
    {
      "cell_type": "code",
      "metadata": {
        "id": "dDaPHGw6vf4L",
        "colab_type": "code",
        "colab": {}
      },
      "source": [
        "\n"
      ],
      "execution_count": 0,
      "outputs": []
    },
    {
      "cell_type": "markdown",
      "metadata": {
        "id": "GhcqIeWLzPIH",
        "colab_type": "text"
      },
      "source": [
        "# Markdown Basics\n",
        "## Markdown Basics\n",
        "### Markdown Basics\n",
        "#### Markdown Basics\n",
        "##### Markdown Basics\n",
        "\n",
        "\n",
        "* ***point3*** (Bold and Italic)\n",
        "\n",
        "* Normal Text\n",
        "*Sublist 1\n",
        "*Sublist 2\n",
        "\n",
        "\n",
        "> 1. Point1\n",
        "> 2. Pont2\n",
        "\n",
        "* ***Adding Links to Markdown***\n",
        "* Google site -- .[1].: http://www.google.com\n",
        "* msn site      -- .[2].: http://www.msn.com\n",
        "* .[.].option 1\n",
        "*Google Site -- [Google].1\n",
        "\n",
        "\n"
      ]
    },
    {
      "cell_type": "code",
      "metadata": {
        "id": "RnxnhvZR4TCf",
        "colab_type": "code",
        "outputId": "c8351faf-0760-45c5-c8c1-a9c27c1ebc6f",
        "colab": {
          "base_uri": "https://localhost:8080/",
          "height": 34
        }
      },
      "source": [
        "print(\"Hello World\")\n",
        "\n",
        "       "
      ],
      "execution_count": 0,
      "outputs": [
        {
          "output_type": "stream",
          "text": [
            "Hello World\n"
          ],
          "name": "stdout"
        }
      ]
    },
    {
      "cell_type": "code",
      "metadata": {
        "id": "zVaXLazS30lL",
        "colab_type": "code",
        "outputId": "a1d2f7c8-7b2b-4430-d3a5-5770526746ab",
        "colab": {
          "base_uri": "https://localhost:8080/",
          "height": 67
        }
      },
      "source": [
        "print(\"Hello Gitam\")\n",
        "print(\"this is Godkroton\")\n",
        "print(\"hyderabad\")"
      ],
      "execution_count": 0,
      "outputs": [
        {
          "output_type": "stream",
          "text": [
            "Hello Gitam\n",
            "this is Godkroton\n",
            "hyderabad\n"
          ],
          "name": "stdout"
        }
      ]
    },
    {
      "cell_type": "code",
      "metadata": {
        "id": "eo8j0j1a5WuW",
        "colab_type": "code",
        "outputId": "bc7058ef-c530-4ac3-bb22-dc983100b117",
        "colab": {
          "base_uri": "https://localhost:8080/",
          "height": 34
        }
      },
      "source": [
        "print(\"Hello, Gitam\",\" ||| \",end = \" \")\n",
        "print(\"Hyderabad\",end=\" ||| \")\n",
        "print(\"python programming\")"
      ],
      "execution_count": 0,
      "outputs": [
        {
          "output_type": "stream",
          "text": [
            "Hello, Gitam  |||  Hyderabad ||| python programming\n"
          ],
          "name": "stdout"
        }
      ]
    },
    {
      "cell_type": "code",
      "metadata": {
        "id": "l1J7fCZb6s3K",
        "colab_type": "code",
        "outputId": "4d3dc92f-4825-40c7-cc22-4a4a1b1f42a5",
        "colab": {
          "base_uri": "https://localhost:8080/",
          "height": 67
        }
      },
      "source": [
        "n1 = 100 # single Variable Assignment\n",
        "a = b = c = 20 # Multi variable Assignment of the same value\n",
        "a1,b1,c1 = 111,222,333 # Multi variable Assignment with different value\n",
        "print(n1)\n",
        "print(a,b,c)\n",
        "print(a1,b1,c1)\n",
        "    "
      ],
      "execution_count": 0,
      "outputs": [
        {
          "output_type": "stream",
          "text": [
            "100\n",
            "20 20 20\n",
            "111 222 333\n"
          ],
          "name": "stdout"
        }
      ]
    },
    {
      "cell_type": "code",
      "metadata": {
        "id": "QVcRqCwx8QBi",
        "colab_type": "code",
        "outputId": "b093382c-7aba-4992-fd16-0045b7a81b0b",
        "colab": {
          "base_uri": "https://localhost:8080/",
          "height": 50
        }
      },
      "source": [
        "a = 100;\n",
        "s1 = \"python\"\n",
        "s2 = 'p'\n",
        "f1 = 10.2\n",
        "print(a,s1,s2,f1)\n",
        "print(type(a),type(s1),type(s2),type(f1))"
      ],
      "execution_count": 0,
      "outputs": [
        {
          "output_type": "stream",
          "text": [
            "100 python p 10.2\n",
            "<class 'int'> <class 'str'> <class 'str'> <class 'float'>\n"
          ],
          "name": "stdout"
        }
      ]
    },
    {
      "cell_type": "code",
      "metadata": {
        "id": "7WaD-EhKTdh8",
        "colab_type": "code",
        "outputId": "9b9aa11e-ddea-4461-be84-cadb5df80248",
        "colab": {
          "base_uri": "https://localhost:8080/",
          "height": 34
        }
      },
      "source": [
        "# A number is given 1234\n",
        "# Digit count\n",
        "a1 = 1234\n",
        "print(len(str(a1)))"
      ],
      "execution_count": 0,
      "outputs": [
        {
          "output_type": "stream",
          "text": [
            "4\n"
          ],
          "name": "stdout"
        }
      ]
    },
    {
      "cell_type": "code",
      "metadata": {
        "id": "EeMDfnRJXGwK",
        "colab_type": "code",
        "outputId": "ec32d514-377a-4fc7-cc7b-d7e61c2a6f5b",
        "colab": {
          "base_uri": "https://localhost:8080/",
          "height": 67
        }
      },
      "source": [
        "s1 = input(\"Enter your name\")\n",
        "print(s1)\n",
        "print(type(s1))"
      ],
      "execution_count": 0,
      "outputs": [
        {
          "output_type": "stream",
          "text": [
            "Enter your nameSuhas\n",
            "Suhas\n",
            "<class 'str'>\n"
          ],
          "name": "stdout"
        }
      ]
    },
    {
      "cell_type": "code",
      "metadata": {
        "id": "ri7k8EeIYGkO",
        "colab_type": "code",
        "colab": {}
      },
      "source": [
        "n1 = int(input(\"Enter a number\"))\n",
        "print(n1)  "
      ],
      "execution_count": 0,
      "outputs": []
    },
    {
      "cell_type": "code",
      "metadata": {
        "id": "Vq7T6hPSe67T",
        "colab_type": "code",
        "colab": {
          "base_uri": "https://localhost:8080/",
          "height": 50
        },
        "outputId": "b5732ab1-1b25-4af7-d48a-76074d053067"
      },
      "source": [
        "i = 100\n",
        "a1 = (i > 15) and (i < 800)\n",
        "a2 = (i > 15) and (i > 800)\n",
        "print(a1)\n",
        "print(a2)"
      ],
      "execution_count": 10,
      "outputs": [
        {
          "output_type": "stream",
          "text": [
            "True\n",
            "False\n"
          ],
          "name": "stdout"
        }
      ]
    },
    {
      "cell_type": "code",
      "metadata": {
        "id": "TmWLcpROmDje",
        "colab_type": "code",
        "colab": {
          "base_uri": "https://localhost:8080/",
          "height": 50
        },
        "outputId": "80e3ab6e-c5fe-41ad-e91b-202e0e36be00"
      },
      "source": [
        "n = int(input(\"Enter a number\"))\n",
        "if n%2 == 0:\n",
        "    print(\"Even\")\n",
        "else:\n",
        "    print(\"Odd\")\n",
        "  \n",
        "  "
      ],
      "execution_count": 11,
      "outputs": [
        {
          "output_type": "stream",
          "text": [
            "Enter a number5\n",
            "Odd\n"
          ],
          "name": "stdout"
        }
      ]
    },
    {
      "cell_type": "code",
      "metadata": {
        "id": "HWreuOwknvAv",
        "colab_type": "code",
        "colab": {
          "base_uri": "https://localhost:8080/",
          "height": 50
        },
        "outputId": "b8a34a13-18c4-4625-ff51-9fea2bc13b3e"
      },
      "source": [
        "n = int(input(\"Enter a number\"))\n",
        "if n%3 == 0 and n%5 == 0:\n",
        "    print(\"Yes\")\n",
        "else:\n",
        "    print(\"No\")\n",
        "  "
      ],
      "execution_count": 12,
      "outputs": [
        {
          "output_type": "stream",
          "text": [
            "Enter a number10\n",
            "No\n"
          ],
          "name": "stdout"
        }
      ]
    },
    {
      "cell_type": "code",
      "metadata": {
        "id": "-VeHKquIoV-R",
        "colab_type": "code",
        "colab": {
          "base_uri": "https://localhost:8080/",
          "height": 50
        },
        "outputId": "2a908572-c400-4a39-9431-68a0ab14d686"
      },
      "source": [
        "n = int(input(\"Enter a number\"))\n",
        "if n == 0:\n",
        "    print(\"Zero\")\n",
        "elif n>0:\n",
        "    print(\"Positive Number\")\n",
        "elif n<0:\n",
        "    print(\"Negative Number\")"
      ],
      "execution_count": 13,
      "outputs": [
        {
          "output_type": "stream",
          "text": [
            "Enter a number5\n",
            "Positive Number\n"
          ],
          "name": "stdout"
        }
      ]
    }
  ]
}